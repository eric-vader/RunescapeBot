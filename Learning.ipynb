{
 "cells": [
  {
   "cell_type": "code",
   "execution_count": 7,
   "metadata": {},
   "outputs": [],
   "source": [
    "import os\n",
    "import cv2\n",
    "import numpy as np\n",
    "from tqdm import tqdm\n",
    "import torch\n",
    "import torch.nn as nn\n",
    "import torch.nn.functional as F\n",
    "import torch.optim as optim"
   ]
  },
  {
   "cell_type": "code",
   "execution_count": 8,
   "metadata": {},
   "outputs": [],
   "source": [
    "class Net(nn.Module):\n",
    "    def __init__(self):\n",
    "        super(Net, self).__init__()\n",
    "        #define convolutional layers for use in forward\n",
    "        self.conv1 == nn.Conv2d(1, 32, kernal_size=3, stride=1, padding=1)\n",
    "        self.conv2 == nn.Conv2d(32, 64, kernal_size=3, stride=1, padding=1)\n",
    "        self.conv3 == nn.Conv2d(64, 128, kernal_size=3, stride=1, padding=1)\n",
    "\n",
    "        #define pool function\n",
    "        self.pool = nn.MaxPool2d(kernel_size=2, stride=1, padding=0)\n",
    "\n",
    "        #Linear layers, these are the neurons\n",
    "        self.fc1 = nn.Linear(16*5*5, 512)\n",
    "        self.fc2 = nn.Linear(512, 128)\n",
    "        self.fc3 = nn.Linear(128, 10)\n",
    "\n",
    "    def forward(self, x):\n",
    "        pass\n",
    "        "
   ]
  },
  {
   "cell_type": "code",
   "execution_count": null,
   "metadata": {},
   "outputs": [],
   "source": []
  }
 ],
 "metadata": {
  "kernelspec": {
   "display_name": "Python 3.8.3 64-bit",
   "language": "python",
   "name": "python38364biteab208d397c0418280ea287783f793bd"
  },
  "language_info": {
   "codemirror_mode": {
    "name": "ipython",
    "version": 3
   },
   "file_extension": ".py",
   "mimetype": "text/x-python",
   "name": "python",
   "nbconvert_exporter": "python",
   "pygments_lexer": "ipython3",
   "version": "3.8.3-final"
  }
 },
 "nbformat": 4,
 "nbformat_minor": 4
}